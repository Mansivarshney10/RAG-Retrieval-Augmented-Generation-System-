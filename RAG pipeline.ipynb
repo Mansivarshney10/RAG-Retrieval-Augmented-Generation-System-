{
 "cells": [
  {
   "cell_type": "markdown",
   "id": "ef6969f4-5bf6-4985-99bf-30098809c424",
   "metadata": {},
   "source": [
    "### Document Ingestion"
   ]
  },
  {
   "cell_type": "code",
   "execution_count": 3,
   "id": "72db4982-8daf-4dbb-9843-1456bfb3fd75",
   "metadata": {},
   "outputs": [],
   "source": [
    "# !pip install PyPDF2"
   ]
  },
  {
   "cell_type": "code",
   "execution_count": 4,
   "id": "80157b7f-c39b-4344-84e5-745e80cb782e",
   "metadata": {},
   "outputs": [
    {
     "name": "stdout",
     "output_type": "stream",
     "text": [
      "\n",
      "DIETARY GUIDELINES \n",
      "FOR INDIANS \n",
      "-A Manual \n",
      "NATIONAL INSTITUTE OF NUTRITION \n",
      "Hyderabad – 500 007, INDIA \n",
      "First Published                 .....           1998 \n",
      "Reprinted                         .....           1999, 2003, 2005, 2007 Second Edition                .....            2011 \n",
      "ATTENTION  READERS \n",
      "Readers can download the soft copy of the “Dietary Guidelines \n",
      "for Indians” free of cost for their own use and also for \n",
      "dissemination of information for  the benefit of the society on non- \n",
      "pro\n"
     ]
    }
   ],
   "source": [
    "# Install required libraries\n",
    "# !pip install PyPDF2\n",
    "\n",
    "from PyPDF2 import PdfReader\n",
    "\n",
    "# Load PDF\n",
    "pdf_path = \"nutrition_paper.pdf\"\n",
    "reader = PdfReader(pdf_path)\n",
    "\n",
    "# Extract text\n",
    "text = \"\"\n",
    "for page in reader.pages:\n",
    "    text += page.extract_text() + \"\\n\"\n",
    "\n",
    "print(text[:500])  # Show first 500 characters to check"
   ]
  },
  {
   "cell_type": "code",
   "execution_count": 5,
   "id": "236ed56e-a8a2-4be3-b4ae-44df1cdd023f",
   "metadata": {},
   "outputs": [
    {
     "name": "stdout",
     "output_type": "stream",
     "text": [
      "Total chunks: 74\n",
      "DIETARY GUIDELINES FOR INDIANS -A Manual NATIONAL INSTITUTE OF NUTRITION Hyderabad – 500 007, INDIA First Published ..... 1998 Reprinted ..... 1999, 2003, 2005, 2007 Second Edition ..... 2011 ATTENTION READERS Readers can download the soft copy of the “Dietary Guidelines for Indians” free of cost fo\n"
     ]
    }
   ],
   "source": [
    "# Simple chunking\n",
    "chunk_size = 500  # words per chunk\n",
    "overlap = 50      # words overlap between chunks\n",
    "\n",
    "words = text.split()\n",
    "chunks = []\n",
    "\n",
    "for i in range(0, len(words), chunk_size - overlap):\n",
    "    chunk = \" \".join(words[i:i+chunk_size])\n",
    "    chunks.append(chunk)\n",
    "\n",
    "print(f\"Total chunks: {len(chunks)}\")\n",
    "print(chunks[0][:300])  # Preview first chunk"
   ]
  },
  {
   "cell_type": "code",
   "execution_count": 6,
   "id": "f08032de-5ab7-4c5e-a57b-fd77ecbbb8e6",
   "metadata": {},
   "outputs": [],
   "source": [
    "# Install OpenAI library if not already\n",
    "# !pip install openai"
   ]
  },
  {
   "cell_type": "code",
   "execution_count": 7,
   "id": "c6e51900-4974-4342-848f-d3ea80768571",
   "metadata": {},
   "outputs": [],
   "source": [
    "# pip install python-dotenv"
   ]
  },
  {
   "cell_type": "code",
   "execution_count": 8,
   "id": "e9ddb1d6-7b85-470b-b0e7-2c079ae5e3bb",
   "metadata": {},
   "outputs": [
    {
     "name": "stdout",
     "output_type": "stream",
     "text": [
      "Total embeddings created: 74\n",
      "Length of one embedding vector: 1536\n"
     ]
    }
   ],
   "source": [
    "from dotenv import load_dotenv\n",
    "from openai import OpenAI\n",
    "import os\n",
    "\n",
    "load_dotenv()\n",
    "# Check if the key is loaded\n",
    "api_key = os.getenv(\"OPENAI_API_KEY\")\n",
    "if api_key is None:\n",
    "    raise ValueError(\"OPENAI_API_KEY not found. Check your .env file!\")\n",
    "\n",
    "client = OpenAI(api_key=api_key)\n",
    "\n",
    "embeddings = []\n",
    "\n",
    "for chunk in chunks:\n",
    "    # Generate embedding\n",
    "    response = client.embeddings.create(\n",
    "        model=\"text-embedding-ada-002\",\n",
    "        input=chunk\n",
    "    )\n",
    "    # Correct way to access embedding\n",
    "    emb = response.data[0].embedding\n",
    "    embeddings.append(emb)\n",
    "\n",
    "print(f\"Total embeddings created: {len(embeddings)}\")\n",
    "print(f\"Length of one embedding vector: {len(embeddings[0])}\")"
   ]
  },
  {
   "cell_type": "code",
   "execution_count": 9,
   "id": "5f890a20-55e9-47d2-b525-0344f1d02c5b",
   "metadata": {},
   "outputs": [],
   "source": [
    "# !pip install chromadb"
   ]
  },
  {
   "cell_type": "code",
   "execution_count": 10,
   "id": "8395987b-41fd-4701-b406-03c6b94cbae4",
   "metadata": {},
   "outputs": [],
   "source": [
    "# import chromadb\n",
    "# print(chromadb.__version__)"
   ]
  },
  {
   "cell_type": "code",
   "execution_count": 14,
   "id": "4f8d0bcc-becb-477f-ad06-1c3fddd3c678",
   "metadata": {},
   "outputs": [
    {
     "name": "stdout",
     "output_type": "stream",
     "text": [
      "All chunks stored in Chroma database!\n"
     ]
    }
   ],
   "source": [
    "import chromadb\n",
    "from chromadb.config import Settings\n",
    "\n",
    "# Initialize Chroma client\n",
    "client_db = chromadb.Client(Settings())\n",
    "collection = client_db.create_collection(\"nutrition_docs\")  # Create fresh\n",
    "\n",
    "# Add each chunk and embedding to the database\n",
    "for i, chunk in enumerate(chunks):\n",
    "    collection.add(\n",
    "        ids=[str(i)],             # unique string ID for each chunk\n",
    "        documents=[chunk],\n",
    "        embeddings=[embeddings[i]],\n",
    "        metadatas=[{\"chunk_id\": i}]\n",
    "    )\n",
    "\n",
    "print(\"All chunks stored in Chroma database!\")"
   ]
  },
  {
   "cell_type": "code",
   "execution_count": 16,
   "id": "3f66ff70-174c-4242-b76d-89a6f81d05e2",
   "metadata": {},
   "outputs": [
    {
     "name": "stdout",
     "output_type": "stream",
     "text": [
      "Answer:\n",
      " Omega-3 fatty acids, particularly long chain n-3 PUFA found in fish oils and microalgae, have numerous health benefits. They are anti-inflammatory, anti-atherogenic, and antithrombotic. Omega-3s increase insulin sensitivity, improve peripheral glucose utilization, and decrease adiposity. They are essential for vision and brain growth, making them especially important for pregnant women. Consuming foods rich in omega-3 can help prevent inflammation, accumulation of fatty material in blood vessels, and clotting of blood, ultimately reducing the risk of cardiovascular diseases. Omega-3 fatty acids also help maintain a healthy balance of fats in the body and support the functioning of various systems including vascular, immune, nervous, and renal systems.\n"
     ]
    }
   ],
   "source": [
    "# User question\n",
    "query = \"What are the benefits of omega-3?\"\n",
    "\n",
    "# Embed the question\n",
    "query_resp = client.embeddings.create(\n",
    "    model=\"text-embedding-ada-002\",\n",
    "    input=query\n",
    ")\n",
    "query_emb = query_resp.data[0].embedding\n",
    "\n",
    "# Retrieve top-3 relevant chunks from Chroma\n",
    "results = collection.query(\n",
    "    query_embeddings=[query_emb],\n",
    "    n_results=3\n",
    ")\n",
    "\n",
    "# Combine retrieved chunks as context\n",
    "context = \" \".join(results['documents'][0])\n",
    "\n",
    "# Create prompt for LLM\n",
    "prompt = f\"Answer the question using the following context:\\n{context}\\n\\nQuestion: {query}\"\n",
    "\n",
    "# Generate answer using GPT-3.5-turbo\n",
    "response = client.chat.completions.create(\n",
    "    model=\"gpt-3.5-turbo\",\n",
    "    messages=[{\"role\": \"user\", \"content\": prompt}]\n",
    ")\n",
    "\n",
    "print(\"Answer:\\n\", response.choices[0].message.content)"
   ]
  },
  {
   "cell_type": "code",
   "execution_count": null,
   "id": "8883e0f2-ec82-4177-ac75-eebbd89637d9",
   "metadata": {},
   "outputs": [],
   "source": []
  }
 ],
 "metadata": {
  "kernelspec": {
   "display_name": "Python [conda env:base] *",
   "language": "python",
   "name": "conda-base-py"
  },
  "language_info": {
   "codemirror_mode": {
    "name": "ipython",
    "version": 3
   },
   "file_extension": ".py",
   "mimetype": "text/x-python",
   "name": "python",
   "nbconvert_exporter": "python",
   "pygments_lexer": "ipython3",
   "version": "3.12.7"
  }
 },
 "nbformat": 4,
 "nbformat_minor": 5
}
